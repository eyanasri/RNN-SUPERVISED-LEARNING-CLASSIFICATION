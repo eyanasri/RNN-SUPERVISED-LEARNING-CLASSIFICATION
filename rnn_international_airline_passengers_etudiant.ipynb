{
 "cells": [
  {
   "cell_type": "markdown",
   "metadata": {
    "_uuid": "150aaeed41f2c23f04dcc32ec884afbe0a393671",
    "id": "ixC0MUSnnbHh"
   },
   "source": [
    "# Recurrent Neural Network (RNN)\n",
    "\n",
    "## Content\n",
    "* [Sequence Models](#1)\n",
    "* [Recurrent Neural Network (RNN)](#2)\n",
    "* [Implementing Recurrent Neural Network with Keras](#3)\n",
    "    * [Loading and Preprocessing Data](#31)\n",
    "    * [Create RNN Model](#32)\n",
    "    * [Predictions and Visualising RNN Model](#33)"
   ]
  },
  {
   "cell_type": "markdown",
   "metadata": {
    "_uuid": "ca93aa490dd0f1f9656648a2d81be10cfc8da105",
    "id": "B5DsaJhCnbHr"
   },
   "source": [
    "<a id=\"41\"></a>\n",
    "### Loading and Visualizing Data"
   ]
  },
  {
   "cell_type": "code",
   "execution_count": null,
   "metadata": {
    "_cell_guid": "b1076dfc-b9ad-4769-8c92-a6c4dae69d19",
    "_uuid": "8f2839f25d086af736a60e9eeb907d3b93b6e0e5",
    "id": "ketVBJwonbHv",
    "scrolled": true
   },
   "outputs": [],
   "source": [
    "# Importing the libraries: numpy, pandas\n",
    "\n",
    "# Importing the libraries: matplotlib, Sequential, Dense\n",
    "  \n"
   ]
  },
  {
   "cell_type": "code",
   "execution_count": 1,
   "metadata": {
    "_cell_guid": "79c7e3d0-c299-4dcb-8224-4455121ee9b0",
    "_uuid": "d629ff2d2480ee46fbb7e2d37f6b5fab8052498a",
    "id": "1RXuIRUenbHy",
    "scrolled": true
   },
   "outputs": [],
   "source": [
    "# Read AirPassengers\n"
   ]
  },
  {
   "cell_type": "code",
   "execution_count": 2,
   "metadata": {
    "_uuid": "319b40112473ce89d23ea0c789c5c2640659bfac",
    "id": "xH79Co1inbH2"
   },
   "outputs": [],
   "source": [
    "# plot Number of Passenger=f(time)\n"
   ]
  },
  {
   "cell_type": "markdown",
   "metadata": {
    "_uuid": "8f7f406e5f65274d0fdab834dec420cef187dba3",
    "id": "0JyBIw10nbH4"
   },
   "source": [
    "<a id=\"42\"></a>\n",
    "### Preprocessing Data\n",
    "* reshape\n",
    "* change type\n",
    "* scaling\n",
    "* train test split\n",
    "* Create dataset"
   ]
  },
  {
   "cell_type": "code",
   "execution_count": 3,
   "metadata": {
    "_uuid": "ed71288725c257dc8be36e0b27b2dceea9eb6e8d",
    "id": "KU5ly9eNnbH5"
   },
   "outputs": [],
   "source": [
    "# Reshape and astype\n"
   ]
  },
  {
   "cell_type": "code",
   "execution_count": null,
   "metadata": {
    "_uuid": "98d87d0af1e504fcee251ca9fe7be9454efaacae",
    "id": "ZWGJiOhynbH7"
   },
   "outputs": [],
   "source": [
    "# Feature Scaling\n"
   ]
  },
  {
   "cell_type": "code",
   "execution_count": 4,
   "metadata": {
    "_uuid": "65b53f5fc591ebf8edf1404b519fbaa6bfebc2a0",
    "id": "HOyu37sYnbH-"
   },
   "outputs": [],
   "source": [
    "# plot dataset_scaled\n"
   ]
  },
  {
   "cell_type": "code",
   "execution_count": 5,
   "metadata": {
    "_uuid": "b291ffd9ceb9c4a603b6ad66c4366fbafada4e1b",
    "id": "LPr5NIRwnbIB"
   },
   "outputs": [],
   "source": [
    "# split train,test\n"
   ]
  },
  {
   "cell_type": "code",
   "execution_count": null,
   "metadata": {
    "_uuid": "471a6e3b4a97c98156942e20a53c5e7aa264306d",
    "id": "6ManKsmWnbIE"
   },
   "outputs": [],
   "source": [
    "# Add time for train: Sequence\n",
    "time_stemp = 10\n",
    "dataX = []\n",
    "dataY = []\n",
    "for i in range(len(train)-time_stemp-1):\n",
    "    a = train[i:(i+time_stemp), 0]\n",
    "    dataX.append(a)\n",
    "    dataY.append(train[i + time_stemp, 0])\n",
    "trainX = np.array(dataX)\n",
    "trainY = np.array(dataY)  \n",
    "print(trainX)\n",
    "print(trainY)"
   ]
  },
  {
   "cell_type": "code",
   "execution_count": null,
   "metadata": {
    "_uuid": "6127dad0266c8b9cf46c1158a5280e2df8229c2a",
    "id": "2TKCD4P-nbIG"
   },
   "outputs": [],
   "source": [
    "# Add time for train: Sequence\n",
    "dataX = []\n",
    "dataY = []\n",
    "for i in range(len(test)-time_stemp-1):\n",
    "    a = test[i:(i+time_stemp), 0]\n",
    "    dataX.append(a)\n",
    "    dataY.append(test[i + time_stemp, 0])\n",
    "testX = np.array(dataX)\n",
    "testY = np.array(dataY) "
   ]
  },
  {
   "cell_type": "code",
   "execution_count": 6,
   "metadata": {
    "_uuid": "8bd845c558c414da3f1ef71c4378951bc1b0e608",
    "id": "8XXsQAwTnbIH"
   },
   "outputs": [],
   "source": [
    "# shape of TrainX, testX\n",
    "trainX = np.reshape(trainX, (trainX.shape[0], trainX.shape[1], 1))\n",
    "testX = np.reshape(testX, (testX.shape[0], testX.shape[1], 1))\n",
    "print('shape of trainX: ', trainX.shape)\n",
    "print('shape of testX: ', testX.shape)"
   ]
  },
  {
   "cell_type": "markdown",
   "metadata": {
    "_uuid": "f4cde8412287c281c4851c3f0d17ae4c8c1c299c",
    "id": "QNj3pIybnbII"
   },
   "source": [
    "<a id=\"43\"></a>\n",
    "### Create RNN Model"
   ]
  },
  {
   "cell_type": "code",
   "execution_count": 7,
   "metadata": {
    "_uuid": "8a01a382468513d970f547065079ccfc71682372",
    "id": "WrpUBNnRnbIJ"
   },
   "outputs": [],
   "source": [
    "# Importing the Keras libraries and packages\n",
    "from keras.models import Sequential\n",
    "from keras.layers import Dense\n",
    "from keras.layers import SimpleRNN\n",
    "# Initialising the RNN\n",
    "regressor = Sequential()\n",
    "# Adding the first RNN layer \n",
    "regressor.add(SimpleRNN(units = 100,activation='tanh', return_sequences = True, input_shape = (trainX.shape[1], 1)))\n",
    "# Adding a second RNN layer \n",
    "regressor.add(SimpleRNN(units = 80,activation='tanh', return_sequences = True))\n",
    "# Adding a third RNN layer \n",
    "regressor.add(SimpleRNN(units = 50,activation='tanh', return_sequences = True))\n",
    "# Adding a fourth RNN layer \n",
    "regressor.add(SimpleRNN(units = 30,activation='tanh', return_sequences = True))\n",
    "# Adding a fifth RNN layer \n",
    "regressor.add(SimpleRNN(units = 20))\n",
    "# Adding the output layer\n",
    "regressor.add(Dense(units = 1))\n",
    "# Compiling the RNN\n",
    "regressor.compile(optimizer = 'adam', loss = 'mean_squared_error')\n",
    "\n",
    "# Fitting the RNN to the Training set\n",
    "regressor.fit(trainX, trainY, epochs = 200, batch_size = 50, verbose = False)"
   ]
  },
  {
   "cell_type": "code",
   "execution_count": null,
   "metadata": {
    "id": "S2ko4OdnnbIL"
   },
   "outputs": [],
   "source": [
    "regressor.summary()"
   ]
  },
  {
   "cell_type": "markdown",
   "metadata": {
    "_uuid": "4c9ad1b9d838bde340fd15fa997f8749fd971296",
    "id": "_QyBkIwdnbIM"
   },
   "source": [
    "Predictions and Visualising RNN Model"
   ]
  },
  {
   "cell_type": "code",
   "execution_count": 8,
   "metadata": {
    "_uuid": "34962b55c811b8adfac2dd627af764b685a7f4d3",
    "id": "5NsdCwbjnbIN"
   },
   "outputs": [],
   "source": [
    "# evaluation of model\n",
    "#import math \n",
    "from sklearn.metrics import mean_squared_error\n",
    "\n",
    "trainPredict = regressor.predict(trainX)\n",
    "testPredict = regressor.predict(testX)\n",
    "# invert predictions\n",
    "trainPredict = scaler.inverse_transform(trainPredict)\n",
    "trainY = scaler.inverse_transform([trainY])\n",
    "testPredict = scaler.inverse_transform(testPredict)\n",
    "testY = scaler.inverse_transform([testY])\n",
    "# calculate root mean squared error\n",
    "trainScore = math.sqrt(mean_squared_error(trainY[0], trainPredict[:,0]))\n",
    "print('Train Score: %.2f RMSE' % (trainScore))\n",
    "testScore = math.sqrt(mean_squared_error(testY[0], testPredict[:,0]))\n",
    "print('Test Score: %.2f RMSE' % (testScore))"
   ]
  },
  {
   "cell_type": "code",
   "execution_count": 9,
   "metadata": {
    "_uuid": "c4f2442c0e97ee621c98b392aff2e23b02475c4f",
    "id": "YFFDPzzRnbIQ"
   },
   "outputs": [],
   "source": [
    "# plot trainPredict\n"
   ]
  },
  {
   "cell_type": "code",
   "execution_count": 10,
   "metadata": {
    "_uuid": "82199070b1ba0ff33e7cd261cd5222a4ecca94bf",
    "id": "czWDDQ19nbIY"
   },
   "outputs": [],
   "source": [
    "# plot testPredict\n"
   ]
  },
  {
   "cell_type": "code",
   "execution_count": 11,
   "metadata": {
    "_uuid": "fb25d38a76f0dfacddc26928969d676b92fe6500",
    "id": "l_UKunDYnbIZ"
   },
   "outputs": [],
   "source": [
    "# shifting train\n",
    "trainPredictPlot = np.empty_like(dataset)\n",
    "trainPredictPlot[:, :] = np.nan\n",
    "trainPredictPlot[time_stemp:len(trainPredict)+time_stemp, :] = trainPredict\n",
    "# shifting test predictions for plotting\n",
    "testPredictPlot = np.empty_like(dataset)\n",
    "testPredictPlot[:, :] = np.nan\n",
    "testPredictPlot[len(trainPredict)+(time_stemp*2)+1:len(dataset)-1, :] = testPredict\n",
    " plot baseline and predictions\n",
    "plt.plot(scaler.inverse_transform(dataset_scaled), color='b')\n",
    "plt.plot(trainPredictPlot, color='r')\n",
    "plt.plot(testPredictPlot, color='g')\n",
    "plt.show()"
   ]
  },
  {
   "cell_type": "markdown",
   "metadata": {
    "_uuid": "1bf513565ed7a9933cfb5c81fba5d75846af19e4",
    "id": "J_sf-FI_nbIb"
   },
   "source": [
    "<a id=\"6\"></a>\n",
    "## Conclusion\n",
    "* Sequence Models\n",
    "* Recurrent Neural Network (RNN)\n",
    "Implementing Recurrent Neural Network with Keras\n",
    "    * Loading and Preprocessing Data\n",
    "    * Create RNN Model\n",
    "    * Predictions and Visualising RNN Model\n",
    "* Long Short Term Memory (LSTMs)\n",
    "* Implementing Long Short Term Memory with Keras\n",
    "    * Loading and Visualizing Data\n",
    "    * Preprocessing Data\n",
    "    * Create LSTM Model\n",
    "    * Predictions and Visualising RNN Model\n",
    "    * Implementing Long Short Term Memory"
   ]
  },
  {
   "cell_type": "markdown",
   "metadata": {
    "_uuid": "bbf58c9d3bcba1e411ef2204f36b3b27ef87949b",
    "id": "SJF_jRiqnbIc"
   },
   "source": [
    "REFERENCES\n",
    "* Tutor: Kaan Can udemy course (deep learning)"
   ]
  },
  {
   "cell_type": "code",
   "execution_count": null,
   "metadata": {
    "id": "MUKpTLwFnbId",
    "outputId": "ee93a7f2-f9eb-42a6-ae4d-f56239496ab0"
   },
   "outputs": [
    {
     "name": "stdout",
     "output_type": "stream",
     "text": [
      "The Zen of Python, by Tim Peters\n",
      "\n",
      "Beautiful is better than ugly.\n",
      "Explicit is better than implicit.\n",
      "Simple is better than complex.\n",
      "Complex is better than complicated.\n",
      "Flat is better than nested.\n",
      "Sparse is better than dense.\n",
      "Readability counts.\n",
      "Special cases aren't special enough to break the rules.\n",
      "Although practicality beats purity.\n",
      "Errors should never pass silently.\n",
      "Unless explicitly silenced.\n",
      "In the face of ambiguity, refuse the temptation to guess.\n",
      "There should be one-- and preferably only one --obvious way to do it.\n",
      "Although that way may not be obvious at first unless you're Dutch.\n",
      "Now is better than never.\n",
      "Although never is often better than *right* now.\n",
      "If the implementation is hard to explain, it's a bad idea.\n",
      "If the implementation is easy to explain, it may be a good idea.\n",
      "Namespaces are one honking great idea -- let's do more of those!\n"
     ]
    }
   ],
   "source": [
    "import this"
   ]
  },
  {
   "cell_type": "code",
   "execution_count": null,
   "metadata": {
    "id": "EdNLGHeknbIe"
   },
   "outputs": [],
   "source": []
  }
 ],
 "metadata": {
  "colab": {
   "name": "rnn-international-airline-passengers.ipynb",
   "provenance": []
  },
  "kernelspec": {
   "display_name": "Python 3",
   "language": "python",
   "name": "python3"
  },
  "language_info": {
   "codemirror_mode": {
    "name": "ipython",
    "version": 3
   },
   "file_extension": ".py",
   "mimetype": "text/x-python",
   "name": "python",
   "nbconvert_exporter": "python",
   "pygments_lexer": "ipython3",
   "version": "3.8.8"
  }
 },
 "nbformat": 4,
 "nbformat_minor": 1
}
