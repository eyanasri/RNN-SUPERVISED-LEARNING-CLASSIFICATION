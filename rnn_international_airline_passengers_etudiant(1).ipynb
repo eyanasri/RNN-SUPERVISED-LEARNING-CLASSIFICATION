{
 "cells": [
  {
   "cell_type": "markdown",
   "metadata": {
    "_uuid": "150aaeed41f2c23f04dcc32ec884afbe0a393671",
    "id": "ixC0MUSnnbHh"
   },
   "source": [
    "# Recurrent Neural Network (RNN)\n",
    "\n",
    "## Content\n",
    "* [Sequence Models](#1)\n",
    "* [Recurrent Neural Network (RNN)](#2)\n",
    "* [Implementing Recurrent Neural Network with Keras](#3)\n",
    "    * [Loading and Preprocessing Data](#31)\n",
    "    * [Create RNN Model](#32)\n",
    "    * [Predictions and Visualising RNN Model](#33)"
   ]
  },
  {
   "cell_type": "markdown",
   "metadata": {
    "_uuid": "ca93aa490dd0f1f9656648a2d81be10cfc8da105",
    "id": "B5DsaJhCnbHr"
   },
   "source": [
    "<a id=\"41\"></a>\n",
    "### Loading and Visualizing Data"
   ]
  },
  {
   "cell_type": "code",
   "execution_count": 2,
   "metadata": {
    "_cell_guid": "b1076dfc-b9ad-4769-8c92-a6c4dae69d19",
    "_uuid": "8f2839f25d086af736a60e9eeb907d3b93b6e0e5",
    "id": "ketVBJwonbHv",
    "scrolled": true
   },
   "outputs": [],
   "source": [
    "# Importing the libraries: numpy, pandas\n",
    "import numpy as np\n",
    "import pandas as pd\n",
    "# Importing the libraries: matplotlib, Sequential, Dense\n",
    "import matplotlib.pyplot as plt\n",
    "from keras.layers import Dense\n",
    "from keras.models import Sequential\n"
   ]
  },
  {
   "cell_type": "code",
   "execution_count": 3,
   "metadata": {
    "_cell_guid": "79c7e3d0-c299-4dcb-8224-4455121ee9b0",
    "_uuid": "d629ff2d2480ee46fbb7e2d37f6b5fab8052498a",
    "id": "1RXuIRUenbHy",
    "scrolled": true
   },
   "outputs": [
    {
     "data": {
      "text/html": [
       "<div>\n",
       "<style scoped>\n",
       "    .dataframe tbody tr th:only-of-type {\n",
       "        vertical-align: middle;\n",
       "    }\n",
       "\n",
       "    .dataframe tbody tr th {\n",
       "        vertical-align: top;\n",
       "    }\n",
       "\n",
       "    .dataframe thead th {\n",
       "        text-align: right;\n",
       "    }\n",
       "</style>\n",
       "<table border=\"1\" class=\"dataframe\">\n",
       "  <thead>\n",
       "    <tr style=\"text-align: right;\">\n",
       "      <th></th>\n",
       "      <th>Month</th>\n",
       "      <th>#Passengers</th>\n",
       "    </tr>\n",
       "  </thead>\n",
       "  <tbody>\n",
       "    <tr>\n",
       "      <th>0</th>\n",
       "      <td>1949-01</td>\n",
       "      <td>112</td>\n",
       "    </tr>\n",
       "    <tr>\n",
       "      <th>1</th>\n",
       "      <td>1949-02</td>\n",
       "      <td>118</td>\n",
       "    </tr>\n",
       "    <tr>\n",
       "      <th>2</th>\n",
       "      <td>1949-03</td>\n",
       "      <td>132</td>\n",
       "    </tr>\n",
       "    <tr>\n",
       "      <th>3</th>\n",
       "      <td>1949-04</td>\n",
       "      <td>129</td>\n",
       "    </tr>\n",
       "    <tr>\n",
       "      <th>4</th>\n",
       "      <td>1949-05</td>\n",
       "      <td>121</td>\n",
       "    </tr>\n",
       "    <tr>\n",
       "      <th>...</th>\n",
       "      <td>...</td>\n",
       "      <td>...</td>\n",
       "    </tr>\n",
       "    <tr>\n",
       "      <th>139</th>\n",
       "      <td>1960-08</td>\n",
       "      <td>606</td>\n",
       "    </tr>\n",
       "    <tr>\n",
       "      <th>140</th>\n",
       "      <td>1960-09</td>\n",
       "      <td>508</td>\n",
       "    </tr>\n",
       "    <tr>\n",
       "      <th>141</th>\n",
       "      <td>1960-10</td>\n",
       "      <td>461</td>\n",
       "    </tr>\n",
       "    <tr>\n",
       "      <th>142</th>\n",
       "      <td>1960-11</td>\n",
       "      <td>390</td>\n",
       "    </tr>\n",
       "    <tr>\n",
       "      <th>143</th>\n",
       "      <td>1960-12</td>\n",
       "      <td>432</td>\n",
       "    </tr>\n",
       "  </tbody>\n",
       "</table>\n",
       "<p>144 rows × 2 columns</p>\n",
       "</div>"
      ],
      "text/plain": [
       "       Month  #Passengers\n",
       "0    1949-01          112\n",
       "1    1949-02          118\n",
       "2    1949-03          132\n",
       "3    1949-04          129\n",
       "4    1949-05          121\n",
       "..       ...          ...\n",
       "139  1960-08          606\n",
       "140  1960-09          508\n",
       "141  1960-10          461\n",
       "142  1960-11          390\n",
       "143  1960-12          432\n",
       "\n",
       "[144 rows x 2 columns]"
      ]
     },
     "execution_count": 3,
     "metadata": {},
     "output_type": "execute_result"
    }
   ],
   "source": [
    "# Read AirPassengers\n",
    "data=pd.read_csv('AirPassengers.csv')\n",
    "data"
   ]
  },
  {
   "cell_type": "code",
   "execution_count": 12,
   "metadata": {
    "_uuid": "319b40112473ce89d23ea0c789c5c2640659bfac",
    "id": "xH79Co1inbH2"
   },
   "outputs": [
    {
     "name": "stdout",
     "output_type": "stream",
     "text": [
      "<class 'numpy.ndarray'>\n"
     ]
    },
    {
     "data": {
      "image/png": "[encoded data removed]",
      "text/plain": [
       "<Figure size 432x288 with 1 Axes>"
      ]
     },
     "metadata": {
      "needs_background": "light"
     },
     "output_type": "display_data"
    },
    {
     "name": "stdout",
     "output_type": "stream",
     "text": [
      "(144,)\n"
     ]
    }
   ],
   "source": [
    "# plot Number of Passenger=f(time)\n",
    "datasets=data.iloc[:,1].values\n",
    "print(type(datasets))\n",
    "plt.plot(datasets)\n",
    "plt.xlabel('time')\n",
    "plt.ylabel('Passenger')\n",
    "plt.grid()\n",
    "plt.show()\n",
    "print(datasets.shape)"
   ]
  },
  {
   "cell_type": "markdown",
   "metadata": {
    "_uuid": "8f7f406e5f65274d0fdab834dec420cef187dba3",
    "id": "0JyBIw10nbH4"
   },
   "source": [
    "<a id=\"42\"></a>\n",
    "### Preprocessing Data\n",
    "* reshape\n",
    "* change type\n",
    "* scaling\n",
    "* train test split\n",
    "* Create dataset"
   ]
  },
  {
   "cell_type": "code",
   "execution_count": 15,
   "metadata": {
    "_uuid": "ed71288725c257dc8be36e0b27b2dceea9eb6e8d",
    "id": "KU5ly9eNnbH5"
   },
   "outputs": [
    {
     "name": "stdout",
     "output_type": "stream",
     "text": [
      "(144, 1)\n",
      "<class 'numpy.ndarray'>\n"
     ]
    }
   ],
   "source": [
    "# Reshape and astype\n",
    "datasets=datasets.reshape(-1,1)\n",
    "print(datasets.shape)\n",
    "datasets=datasets.astype('float32')\n",
    "print(type(datasets))"
   ]
  },
  {
   "cell_type": "code",
   "execution_count": 17,
   "metadata": {
    "_uuid": "98d87d0af1e504fcee251ca9fe7be9454efaacae",
    "id": "ZWGJiOhynbH7"
   },
   "outputs": [],
   "source": [
    "# Feature Scaling\n",
    "from sklearn.preprocessing import MinMaxScaler\n",
    "Scaler=MinMaxScaler()\n",
    "datasets_scaler=Scaler.fit_transform(datasets)"
   ]
  },
  {
   "cell_type": "code",
   "execution_count": 18,
   "metadata": {
    "_uuid": "65b53f5fc591ebf8edf1404b519fbaa6bfebc2a0",
    "id": "HOyu37sYnbH-"
   },
   "outputs": [
    {
     "data": {
      "image/png": "[encoded data removed]",
      "text/plain": [
       "<Figure size 432x288 with 1 Axes>"
      ]
     },
     "metadata": {
      "needs_background": "light"
     },
     "output_type": "display_data"
    },
    {
     "name": "stdout",
     "output_type": "stream",
     "text": [
      "(144, 1)\n"
     ]
    }
   ],
   "source": [
    "# plot dataset_scaled\n",
    "plt.plot(datasets_scaler)\n",
    "plt.xlabel('time')\n",
    "plt.ylabel('Passenger')\n",
    "plt.grid()\n",
    "plt.show()\n",
    "print(datasets.shape)"
   ]
  },
  {
   "cell_type": "code",
   "execution_count": 23,
   "metadata": {
    "_uuid": "b291ffd9ceb9c4a603b6ad66c4366fbafada4e1b",
    "id": "LPr5NIRwnbIB"
   },
   "outputs": [
    {
     "name": "stdout",
     "output_type": "stream",
     "text": [
      "86\n",
      "58\n"
     ]
    }
   ],
   "source": [
    "# split train,test\n",
    "train_size=int(len(datasets_scaler)*0.6)\n",
    "print(train_size)\n",
    "test_size=len(datasets_scaler)-train_size\n",
    "print(test_size)\n",
    "train=datasets_scaler[0:train_size,:]\n",
    "test=datasets_scaler[train_size:len(datasets_scaler),:]"
   ]
  },
  {
   "cell_type": "code",
   "execution_count": 25,
   "metadata": {
    "_uuid": "471a6e3b4a97c98156942e20a53c5e7aa264306d",
    "id": "6ManKsmWnbIE"
   },
   "outputs": [
    {
     "name": "stdout",
     "output_type": "stream",
     "text": [
      "(75, 10)\n",
      "(75,)\n"
     ]
    }
   ],
   "source": [
    "# Add time for train: Sequence\n",
    "time_stemp = 10\n",
    "dataX = []\n",
    "dataY = []\n",
    "for i in range(len(train)-time_stemp-1):\n",
    "    a = train[i:(i+time_stemp), 0]\n",
    "    dataX.append(a)\n",
    "    dataY.append(train[i + time_stemp, 0])\n",
    "trainX = np.array(dataX)\n",
    "trainY = np.array(dataY)  \n",
    "print(trainX.shape)\n",
    "print(trainY.shape)"
   ]
  },
  {
   "cell_type": "code",
   "execution_count": 26,
   "metadata": {
    "_uuid": "6127dad0266c8b9cf46c1158a5280e2df8229c2a",
    "id": "2TKCD4P-nbIG"
   },
   "outputs": [],
   "source": [
    "# Add time for train: Sequence\n",
    "dataX = []\n",
    "dataY = []\n",
    "for i in range(len(test)-time_stemp-1):\n",
    "    a = test[i:(i+time_stemp), 0]\n",
    "    dataX.append(a)\n",
    "    dataY.append(test[i + time_stemp, 0])\n",
    "testX = np.array(dataX)\n",
    "testY = np.array(dataY) "
   ]
  },
  {
   "cell_type": "code",
   "execution_count": 27,
   "metadata": {
    "_uuid": "8bd845c558c414da3f1ef71c4378951bc1b0e608",
    "id": "8XXsQAwTnbIH"
   },
   "outputs": [
    {
     "name": "stdout",
     "output_type": "stream",
     "text": [
      "shape of trainX:  (75, 10, 1)\n",
      "shape of testX:  (47, 10, 1)\n"
     ]
    }
   ],
   "source": [
    "# shape of TrainX, testX\n",
    "trainX = np.reshape(trainX, (trainX.shape[0], trainX.shape[1], 1))\n",
    "testX = np.reshape(testX, (testX.shape[0], testX.shape[1], 1))\n",
    "print('shape of trainX: ', trainX.shape)\n",
    "print('shape of testX: ', testX.shape)"
   ]
  },
  {
   "cell_type": "markdown",
   "metadata": {
    "_uuid": "f4cde8412287c281c4851c3f0d17ae4c8c1c299c",
    "id": "QNj3pIybnbII"
   },
   "source": [
    "<a id=\"43\"></a>\n",
    "### Create RNN Model"
   ]
  },
  {
   "cell_type": "code",
   "execution_count": 28,
   "metadata": {
    "_uuid": "8a01a382468513d970f547065079ccfc71682372",
    "id": "WrpUBNnRnbIJ"
   },
   "outputs": [
    {
     "name": "stdout",
     "output_type": "stream",
     "text": [
      "Epoch 1/200\n",
      "2/2 [==============================] - 5s 25ms/step - loss: 0.8888\n",
      "Epoch 2/200\n",
      "2/2 [==============================] - 0s 35ms/step - loss: 0.4360\n",
      "Epoch 3/200\n",
      "2/2 [==============================] - 0s 23ms/step - loss: 0.1781\n",
      "Epoch 4/200\n",
      "2/2 [==============================] - 0s 30ms/step - loss: 0.1408\n",
      "Epoch 5/200\n",
      "2/2 [==============================] - 0s 31ms/step - loss: 0.0257\n",
      "Epoch 6/200\n",
      "2/2 [==============================] - 0s 28ms/step - loss: 0.0750\n",
      "Epoch 7/200\n",
      "2/2 [==============================] - 0s 29ms/step - loss: 0.0515\n",
      "Epoch 8/200\n",
      "2/2 [==============================] - 0s 31ms/step - loss: 0.0135\n",
      "Epoch 9/200\n",
      "2/2 [==============================] - 0s 23ms/step - loss: 0.0229\n",
      "Epoch 10/200\n",
      "2/2 [==============================] - 0s 30ms/step - loss: 0.0314\n",
      "Epoch 11/200\n",
      "2/2 [==============================] - 0s 26ms/step - loss: 0.0226\n",
      "Epoch 12/200\n",
      "2/2 [==============================] - 0s 24ms/step - loss: 0.0139\n",
      "Epoch 13/200\n",
      "2/2 [==============================] - 0s 28ms/step - loss: 0.0167\n",
      "Epoch 14/200\n",
      "2/2 [==============================] - 0s 28ms/step - loss: 0.0172\n",
      "Epoch 15/200\n",
      "2/2 [==============================] - 0s 34ms/step - loss: 0.0116\n",
      "Epoch 16/200\n",
      "2/2 [==============================] - 0s 26ms/step - loss: 0.0094\n",
      "Epoch 17/200\n",
      "2/2 [==============================] - 0s 28ms/step - loss: 0.0109\n",
      "Epoch 18/200\n",
      "2/2 [==============================] - 0s 26ms/step - loss: 0.0097\n",
      "Epoch 19/200\n",
      "2/2 [==============================] - 0s 26ms/step - loss: 0.0076\n",
      "Epoch 20/200\n",
      "2/2 [==============================] - 0s 35ms/step - loss: 0.0069\n",
      "Epoch 21/200\n",
      "2/2 [==============================] - 0s 21ms/step - loss: 0.0079\n",
      "Epoch 22/200\n",
      "2/2 [==============================] - 0s 32ms/step - loss: 0.0071\n",
      "Epoch 23/200\n",
      "2/2 [==============================] - 0s 29ms/step - loss: 0.0059\n",
      "Epoch 24/200\n",
      "2/2 [==============================] - 0s 26ms/step - loss: 0.0065\n",
      "Epoch 25/200\n",
      "2/2 [==============================] - 0s 29ms/step - loss: 0.0069\n",
      "Epoch 26/200\n",
      "2/2 [==============================] - 0s 26ms/step - loss: 0.0062\n",
      "Epoch 27/200\n",
      "2/2 [==============================] - 0s 25ms/step - loss: 0.0058\n",
      "Epoch 28/200\n",
      "2/2 [==============================] - 0s 30ms/step - loss: 0.0061\n",
      "Epoch 29/200\n",
      "2/2 [==============================] - 0s 36ms/step - loss: 0.0059\n",
      "Epoch 30/200\n",
      "2/2 [==============================] - 0s 25ms/step - loss: 0.0055\n",
      "Epoch 31/200\n",
      "2/2 [==============================] - 0s 30ms/step - loss: 0.0054\n",
      "Epoch 32/200\n",
      "2/2 [==============================] - 0s 29ms/step - loss: 0.0055\n",
      "Epoch 33/200\n",
      "2/2 [==============================] - 0s 24ms/step - loss: 0.0052\n",
      "Epoch 34/200\n",
      "2/2 [==============================] - 0s 27ms/step - loss: 0.0051\n",
      "Epoch 35/200\n",
      "2/2 [==============================] - 0s 28ms/step - loss: 0.0052\n",
      "Epoch 36/200\n",
      "2/2 [==============================] - 0s 24ms/step - loss: 0.0050\n",
      "Epoch 37/200\n",
      "2/2 [==============================] - 0s 33ms/step - loss: 0.0049\n",
      "Epoch 38/200\n",
      "2/2 [==============================] - 0s 23ms/step - loss: 0.0049\n",
      "Epoch 39/200\n",
      "2/2 [==============================] - 0s 29ms/step - loss: 0.0048\n",
      "Epoch 40/200\n",
      "2/2 [==============================] - 0s 26ms/step - loss: 0.0046\n",
      "Epoch 41/200\n",
      "2/2 [==============================] - 0s 20ms/step - loss: 0.0047\n",
      "Epoch 42/200\n",
      "2/2 [==============================] - 0s 27ms/step - loss: 0.0047\n",
      "Epoch 43/200\n",
      "2/2 [==============================] - 0s 31ms/step - loss: 0.0045\n",
      "Epoch 44/200\n",
      "2/2 [==============================] - 0s 21ms/step - loss: 0.0045\n",
      "Epoch 45/200\n",
      "2/2 [==============================] - 0s 27ms/step - loss: 0.0045\n",
      "Epoch 46/200\n",
      "2/2 [==============================] - 0s 32ms/step - loss: 0.0044\n",
      "Epoch 47/200\n",
      "2/2 [==============================] - 0s 27ms/step - loss: 0.0043\n",
      "Epoch 48/200\n",
      "2/2 [==============================] - 0s 33ms/step - loss: 0.0043\n",
      "Epoch 49/200\n",
      "2/2 [==============================] - 0s 31ms/step - loss: 0.0042\n",
      "Epoch 50/200\n",
      "2/2 [==============================] - 0s 44ms/step - loss: 0.0042\n",
      "Epoch 51/200\n",
      "2/2 [==============================] - 0s 30ms/step - loss: 0.0041\n",
      "Epoch 52/200\n",
      "2/2 [==============================] - 0s 38ms/step - loss: 0.0041\n",
      "Epoch 53/200\n",
      "2/2 [==============================] - 0s 27ms/step - loss: 0.0041\n",
      "Epoch 54/200\n",
      "2/2 [==============================] - 0s 32ms/step - loss: 0.0040\n",
      "Epoch 55/200\n",
      "2/2 [==============================] - 0s 32ms/step - loss: 0.0039\n",
      "Epoch 56/200\n",
      "2/2 [==============================] - 0s 28ms/step - loss: 0.0040\n",
      "Epoch 57/200\n",
      "2/2 [==============================] - 0s 31ms/step - loss: 0.0039\n",
      "Epoch 58/200\n",
      "2/2 [==============================] - 0s 31ms/step - loss: 0.0038\n",
      "Epoch 59/200\n",
      "2/2 [==============================] - 0s 32ms/step - loss: 0.0039\n",
      "Epoch 60/200\n",
      "2/2 [==============================] - 0s 22ms/step - loss: 0.0037\n",
      "Epoch 61/200\n",
      "2/2 [==============================] - 0s 29ms/step - loss: 0.0037\n",
      "Epoch 62/200\n",
      "2/2 [==============================] - 0s 32ms/step - loss: 0.0038\n",
      "Epoch 63/200\n",
      "2/2 [==============================] - 0s 36ms/step - loss: 0.0036\n",
      "Epoch 64/200\n",
      "2/2 [==============================] - 0s 30ms/step - loss: 0.0038\n",
      "Epoch 65/200\n",
      "2/2 [==============================] - 0s 31ms/step - loss: 0.0036\n",
      "Epoch 66/200\n",
      "2/2 [==============================] - 0s 34ms/step - loss: 0.0036\n",
      "Epoch 67/200\n",
      "2/2 [==============================] - 0s 28ms/step - loss: 0.0035\n",
      "Epoch 68/200\n",
      "2/2 [==============================] - 0s 26ms/step - loss: 0.0035\n",
      "Epoch 69/200\n",
      "2/2 [==============================] - 0s 26ms/step - loss: 0.0035\n",
      "Epoch 70/200\n",
      "2/2 [==============================] - 0s 27ms/step - loss: 0.0034\n",
      "Epoch 71/200\n",
      "2/2 [==============================] - 0s 24ms/step - loss: 0.0033\n",
      "Epoch 72/200\n",
      "2/2 [==============================] - 0s 40ms/step - loss: 0.0034\n",
      "Epoch 73/200\n",
      "2/2 [==============================] - 0s 28ms/step - loss: 0.0033\n",
      "Epoch 74/200\n",
      "2/2 [==============================] - 0s 21ms/step - loss: 0.0033\n",
      "Epoch 75/200\n",
      "2/2 [==============================] - 0s 22ms/step - loss: 0.0033\n",
      "Epoch 76/200\n",
      "2/2 [==============================] - 0s 30ms/step - loss: 0.0033\n",
      "Epoch 77/200\n",
      "2/2 [==============================] - 0s 30ms/step - loss: 0.0032\n",
      "Epoch 78/200\n",
      "2/2 [==============================] - 0s 29ms/step - loss: 0.0031\n",
      "Epoch 79/200\n",
      "2/2 [==============================] - 0s 30ms/step - loss: 0.0032\n",
      "Epoch 80/200\n",
      "2/2 [==============================] - 0s 27ms/step - loss: 0.0031\n",
      "Epoch 81/200\n",
      "2/2 [==============================] - 0s 34ms/step - loss: 0.0032\n",
      "Epoch 82/200\n",
      "2/2 [==============================] - 0s 29ms/step - loss: 0.0031\n",
      "Epoch 83/200\n",
      "2/2 [==============================] - 0s 26ms/step - loss: 0.0031\n",
      "Epoch 84/200\n",
      "2/2 [==============================] - 0s 24ms/step - loss: 0.0032\n",
      "Epoch 85/200\n",
      "2/2 [==============================] - 0s 31ms/step - loss: 0.0031\n",
      "Epoch 86/200\n",
      "2/2 [==============================] - 0s 31ms/step - loss: 0.0031\n",
      "Epoch 87/200\n",
      "2/2 [==============================] - 0s 25ms/step - loss: 0.0030\n",
      "Epoch 88/200\n",
      "2/2 [==============================] - 0s 30ms/step - loss: 0.0033\n",
      "Epoch 89/200\n",
      "2/2 [==============================] - 0s 30ms/step - loss: 0.0030\n",
      "Epoch 90/200\n",
      "2/2 [==============================] - 0s 36ms/step - loss: 0.0031\n",
      "Epoch 91/200\n",
      "2/2 [==============================] - 0s 29ms/step - loss: 0.0030\n",
      "Epoch 92/200\n",
      "2/2 [==============================] - 0s 34ms/step - loss: 0.0029\n",
      "Epoch 93/200\n",
      "2/2 [==============================] - 0s 30ms/step - loss: 0.0030\n",
      "Epoch 94/200\n",
      "2/2 [==============================] - 0s 36ms/step - loss: 0.0030\n",
      "Epoch 95/200\n",
      "2/2 [==============================] - 0s 29ms/step - loss: 0.0029\n",
      "Epoch 96/200\n",
      "2/2 [==============================] - 0s 29ms/step - loss: 0.0030\n",
      "Epoch 97/200\n",
      "2/2 [==============================] - 0s 26ms/step - loss: 0.0028\n",
      "Epoch 98/200\n",
      "2/2 [==============================] - 0s 21ms/step - loss: 0.0028\n",
      "Epoch 99/200\n",
      "2/2 [==============================] - 0s 32ms/step - loss: 0.0028\n",
      "Epoch 100/200\n",
      "2/2 [==============================] - 0s 25ms/step - loss: 0.0028\n",
      "Epoch 101/200\n",
      "2/2 [==============================] - 0s 29ms/step - loss: 0.0028\n",
      "Epoch 102/200\n",
      "2/2 [==============================] - 0s 29ms/step - loss: 0.0027\n",
      "Epoch 103/200\n"
     ]
    },
    {
     "name": "stdout",
     "output_type": "stream",
     "text": [
      "2/2 [==============================] - 0s 33ms/step - loss: 0.0028\n",
      "Epoch 104/200\n",
      "2/2 [==============================] - 0s 34ms/step - loss: 0.0027\n",
      "Epoch 105/200\n",
      "2/2 [==============================] - 0s 34ms/step - loss: 0.0029\n",
      "Epoch 106/200\n",
      "2/2 [==============================] - 0s 31ms/step - loss: 0.0030\n",
      "Epoch 107/200\n",
      "2/2 [==============================] - 0s 27ms/step - loss: 0.0028\n",
      "Epoch 108/200\n",
      "2/2 [==============================] - 0s 33ms/step - loss: 0.0027\n",
      "Epoch 109/200\n",
      "2/2 [==============================] - 0s 33ms/step - loss: 0.0027\n",
      "Epoch 110/200\n",
      "2/2 [==============================] - 0s 50ms/step - loss: 0.0027\n",
      "Epoch 111/200\n",
      "2/2 [==============================] - 0s 31ms/step - loss: 0.0026\n",
      "Epoch 112/200\n",
      "2/2 [==============================] - 0s 31ms/step - loss: 0.0026\n",
      "Epoch 113/200\n",
      "2/2 [==============================] - 0s 27ms/step - loss: 0.0026\n",
      "Epoch 114/200\n",
      "2/2 [==============================] - 0s 22ms/step - loss: 0.0026\n",
      "Epoch 115/200\n",
      "2/2 [==============================] - 0s 35ms/step - loss: 0.0026\n",
      "Epoch 116/200\n",
      "2/2 [==============================] - 0s 26ms/step - loss: 0.0027\n",
      "Epoch 117/200\n",
      "2/2 [==============================] - 0s 33ms/step - loss: 0.0026\n",
      "Epoch 118/200\n",
      "2/2 [==============================] - 0s 35ms/step - loss: 0.0025\n",
      "Epoch 119/200\n",
      "2/2 [==============================] - 0s 27ms/step - loss: 0.0025\n",
      "Epoch 120/200\n",
      "2/2 [==============================] - 0s 38ms/step - loss: 0.0025\n",
      "Epoch 121/200\n",
      "2/2 [==============================] - 0s 34ms/step - loss: 0.0025\n",
      "Epoch 122/200\n",
      "2/2 [==============================] - 0s 27ms/step - loss: 0.0025\n",
      "Epoch 123/200\n",
      "2/2 [==============================] - 0s 28ms/step - loss: 0.0025\n",
      "Epoch 124/200\n",
      "2/2 [==============================] - 0s 58ms/step - loss: 0.0026\n",
      "Epoch 125/200\n",
      "2/2 [==============================] - 0s 32ms/step - loss: 0.0025\n",
      "Epoch 126/200\n",
      "2/2 [==============================] - 0s 39ms/step - loss: 0.0024\n",
      "Epoch 127/200\n",
      "2/2 [==============================] - 0s 45ms/step - loss: 0.0024\n",
      "Epoch 128/200\n",
      "2/2 [==============================] - 0s 56ms/step - loss: 0.0024\n",
      "Epoch 129/200\n",
      "2/2 [==============================] - 0s 34ms/step - loss: 0.0024\n",
      "Epoch 130/200\n",
      "2/2 [==============================] - 0s 30ms/step - loss: 0.0023\n",
      "Epoch 131/200\n",
      "2/2 [==============================] - 0s 29ms/step - loss: 0.0024\n",
      "Epoch 132/200\n",
      "2/2 [==============================] - 0s 37ms/step - loss: 0.0023\n",
      "Epoch 133/200\n",
      "2/2 [==============================] - 0s 33ms/step - loss: 0.0023\n",
      "Epoch 134/200\n",
      "2/2 [==============================] - 0s 30ms/step - loss: 0.0024\n",
      "Epoch 135/200\n",
      "2/2 [==============================] - 0s 26ms/step - loss: 0.0023\n",
      "Epoch 136/200\n",
      "2/2 [==============================] - 0s 26ms/step - loss: 0.0023\n",
      "Epoch 137/200\n",
      "2/2 [==============================] - 0s 32ms/step - loss: 0.0025\n",
      "Epoch 138/200\n",
      "2/2 [==============================] - 0s 35ms/step - loss: 0.0025\n",
      "Epoch 139/200\n",
      "2/2 [==============================] - 0s 31ms/step - loss: 0.0023\n",
      "Epoch 140/200\n",
      "2/2 [==============================] - 0s 31ms/step - loss: 0.0024\n",
      "Epoch 141/200\n",
      "2/2 [==============================] - 0s 28ms/step - loss: 0.0021\n",
      "Epoch 142/200\n",
      "2/2 [==============================] - 0s 23ms/step - loss: 0.0026\n",
      "Epoch 143/200\n",
      "2/2 [==============================] - 0s 33ms/step - loss: 0.0022\n",
      "Epoch 144/200\n",
      "2/2 [==============================] - 0s 32ms/step - loss: 0.0026\n",
      "Epoch 145/200\n",
      "2/2 [==============================] - 0s 25ms/step - loss: 0.0022\n",
      "Epoch 146/200\n",
      "2/2 [==============================] - 0s 28ms/step - loss: 0.0021\n",
      "Epoch 147/200\n",
      "2/2 [==============================] - 0s 30ms/step - loss: 0.0023\n",
      "Epoch 148/200\n",
      "2/2 [==============================] - 0s 28ms/step - loss: 0.0025\n",
      "Epoch 149/200\n",
      "2/2 [==============================] - 0s 26ms/step - loss: 0.0024\n",
      "Epoch 150/200\n",
      "2/2 [==============================] - 0s 25ms/step - loss: 0.0023\n",
      "Epoch 151/200\n",
      "2/2 [==============================] - 0s 29ms/step - loss: 0.0022\n",
      "Epoch 152/200\n",
      "2/2 [==============================] - 0s 30ms/step - loss: 0.0020\n",
      "Epoch 153/200\n",
      "2/2 [==============================] - 0s 27ms/step - loss: 0.0022\n",
      "Epoch 154/200\n",
      "2/2 [==============================] - 0s 43ms/step - loss: 0.0020\n",
      "Epoch 155/200\n",
      "2/2 [==============================] - 0s 28ms/step - loss: 0.0021\n",
      "Epoch 156/200\n",
      "2/2 [==============================] - 0s 21ms/step - loss: 0.0021\n",
      "Epoch 157/200\n",
      "2/2 [==============================] - 0s 30ms/step - loss: 0.0020\n",
      "Epoch 158/200\n",
      "2/2 [==============================] - 0s 32ms/step - loss: 0.0021\n",
      "Epoch 159/200\n",
      "2/2 [==============================] - 0s 28ms/step - loss: 0.0020\n",
      "Epoch 160/200\n",
      "2/2 [==============================] - 0s 33ms/step - loss: 0.0020\n",
      "Epoch 161/200\n",
      "2/2 [==============================] - 0s 21ms/step - loss: 0.0020\n",
      "Epoch 162/200\n",
      "2/2 [==============================] - 0s 32ms/step - loss: 0.0020\n",
      "Epoch 163/200\n",
      "2/2 [==============================] - 0s 21ms/step - loss: 0.0019\n",
      "Epoch 164/200\n",
      "2/2 [==============================] - 0s 22ms/step - loss: 0.0019\n",
      "Epoch 165/200\n",
      "2/2 [==============================] - 0s 23ms/step - loss: 0.0020\n",
      "Epoch 166/200\n",
      "2/2 [==============================] - 0s 34ms/step - loss: 0.0018\n",
      "Epoch 167/200\n",
      "2/2 [==============================] - 0s 19ms/step - loss: 0.0020\n",
      "Epoch 168/200\n",
      "2/2 [==============================] - 0s 29ms/step - loss: 0.0019\n",
      "Epoch 169/200\n",
      "2/2 [==============================] - 0s 31ms/step - loss: 0.0019\n",
      "Epoch 170/200\n",
      "2/2 [==============================] - 0s 30ms/step - loss: 0.0020\n",
      "Epoch 171/200\n",
      "2/2 [==============================] - 0s 27ms/step - loss: 0.0019\n",
      "Epoch 172/200\n",
      "2/2 [==============================] - 0s 22ms/step - loss: 0.0018\n",
      "Epoch 173/200\n",
      "2/2 [==============================] - 0s 27ms/step - loss: 0.0020\n",
      "Epoch 174/200\n",
      "2/2 [==============================] - 0s 26ms/step - loss: 0.0021\n",
      "Epoch 175/200\n",
      "2/2 [==============================] - 0s 21ms/step - loss: 0.0020\n",
      "Epoch 176/200\n",
      "2/2 [==============================] - 0s 30ms/step - loss: 0.0018\n",
      "Epoch 177/200\n",
      "2/2 [==============================] - 0s 34ms/step - loss: 0.0021\n",
      "Epoch 178/200\n",
      "2/2 [==============================] - 0s 23ms/step - loss: 0.0018\n",
      "Epoch 179/200\n",
      "2/2 [==============================] - 0s 29ms/step - loss: 0.0018\n",
      "Epoch 180/200\n",
      "2/2 [==============================] - 0s 19ms/step - loss: 0.0018\n",
      "Epoch 181/200\n",
      "2/2 [==============================] - 0s 35ms/step - loss: 0.0017\n",
      "Epoch 182/200\n",
      "2/2 [==============================] - 0s 33ms/step - loss: 0.0017\n",
      "Epoch 183/200\n",
      "2/2 [==============================] - 0s 32ms/step - loss: 0.0018\n",
      "Epoch 184/200\n",
      "2/2 [==============================] - 0s 30ms/step - loss: 0.0017\n",
      "Epoch 185/200\n",
      "2/2 [==============================] - 0s 23ms/step - loss: 0.0016\n",
      "Epoch 186/200\n",
      "2/2 [==============================] - 0s 30ms/step - loss: 0.0018\n",
      "Epoch 187/200\n",
      "2/2 [==============================] - 0s 30ms/step - loss: 0.0016\n",
      "Epoch 188/200\n",
      "2/2 [==============================] - 0s 32ms/step - loss: 0.0016\n",
      "Epoch 189/200\n",
      "2/2 [==============================] - 0s 31ms/step - loss: 0.0016\n",
      "Epoch 190/200\n",
      "2/2 [==============================] - 0s 28ms/step - loss: 0.0018\n",
      "Epoch 191/200\n",
      "2/2 [==============================] - 0s 33ms/step - loss: 0.0018\n",
      "Epoch 192/200\n",
      "2/2 [==============================] - 0s 24ms/step - loss: 0.0017\n",
      "Epoch 193/200\n",
      "2/2 [==============================] - 0s 22ms/step - loss: 0.0017\n",
      "Epoch 194/200\n",
      "2/2 [==============================] - 0s 26ms/step - loss: 0.0017\n",
      "Epoch 195/200\n",
      "2/2 [==============================] - 0s 25ms/step - loss: 0.0016\n",
      "Epoch 196/200\n",
      "2/2 [==============================] - 0s 26ms/step - loss: 0.0016\n",
      "Epoch 197/200\n",
      "2/2 [==============================] - 0s 25ms/step - loss: 0.0019\n",
      "Epoch 198/200\n",
      "2/2 [==============================] - 0s 32ms/step - loss: 0.0015\n",
      "Epoch 199/200\n",
      "2/2 [==============================] - 0s 22ms/step - loss: 0.0017\n",
      "Epoch 200/200\n",
      "2/2 [==============================] - 0s 31ms/step - loss: 0.0017\n"
     ]
    },
    {
     "data": {
      "text/plain": [
       "<keras.callbacks.History at 0x7efc4cceb790>"
      ]
     },
     "execution_count": 28,
     "metadata": {},
     "output_type": "execute_result"
    }
   ],
   "source": [
    "# Importing the Keras libraries and packages\n",
    "from keras.models import Sequential\n",
    "from keras.layers import Dense\n",
    "from keras.layers import SimpleRNN\n",
    "# Initialising the RNN\n",
    "regressor = Sequential()\n",
    "# Adding the first RNN layer \n",
    "regressor.add(SimpleRNN(units = 100,activation='tanh', return_sequences = True, input_shape = (trainX.shape[1], 1)))\n",
    "# Adding a second RNN layer \n",
    "regressor.add(SimpleRNN(units = 80,activation='tanh', return_sequences = True))\n",
    "# Adding a third RNN layer \n",
    "regressor.add(SimpleRNN(units = 50,activation='tanh', return_sequences = True))\n",
    "# Adding a fourth RNN layer \n",
    "regressor.add(SimpleRNN(units = 30,activation='tanh', return_sequences = True))\n",
    "# Adding a fifth RNN layer \n",
    "regressor.add(SimpleRNN(units = 20))\n",
    "# Adding the output layer\n",
    "regressor.add(Dense(units = 1))\n",
    "# Compiling the RNN\n",
    "regressor.compile(optimizer = 'adam', loss = 'mean_squared_error')\n",
    "\n",
    "# Fitting the RNN to the Training set\n",
    "regressor.fit(trainX, trainY, epochs = 200, batch_size = 50, verbose = True)"
   ]
  },
  {
   "cell_type": "code",
   "execution_count": 29,
   "metadata": {
    "id": "S2ko4OdnnbIL"
   },
   "outputs": [
    {
     "name": "stdout",
     "output_type": "stream",
     "text": [
      "Model: \"sequential\"\n",
      "_________________________________________________________________\n",
      " Layer (type)                Output Shape              Param #   \n",
      "=================================================================\n",
      " simple_rnn (SimpleRNN)      (None, 10, 100)           10200     \n",
      "                                                                 \n",
      " simple_rnn_1 (SimpleRNN)    (None, 10, 80)            14480     \n",
      "                                                                 \n",
      " simple_rnn_2 (SimpleRNN)    (None, 10, 50)            6550      \n",
      "                                                                 \n",
      " simple_rnn_3 (SimpleRNN)    (None, 10, 30)            2430      \n",
      "                                                                 \n",
      " simple_rnn_4 (SimpleRNN)    (None, 20)                1020      \n",
      "                                                                 \n",
      " dense (Dense)               (None, 1)                 21        \n",
      "                                                                 \n",
      "=================================================================\n",
      "Total params: 34,701\n",
      "Trainable params: 34,701\n",
      "Non-trainable params: 0\n",
      "_________________________________________________________________\n"
     ]
    }
   ],
   "source": [
    "regressor.summary()"
   ]
  },
  {
   "cell_type": "markdown",
   "metadata": {
    "_uuid": "4c9ad1b9d838bde340fd15fa997f8749fd971296",
    "id": "_QyBkIwdnbIM"
   },
   "source": [
    "Predictions and Visualising RNN Model"
   ]
  },
  {
   "cell_type": "code",
   "execution_count": 30,
   "metadata": {
    "_uuid": "34962b55c811b8adfac2dd627af764b685a7f4d3",
    "id": "5NsdCwbjnbIN"
   },
   "outputs": [
    {
     "name": "stdout",
     "output_type": "stream",
     "text": [
      "Train Score: 19.88 RMSE\n",
      "Test Score: 74.11 RMSE\n"
     ]
    }
   ],
   "source": [
    "# evaluation of model\n",
    "import math \n",
    "from sklearn.metrics import mean_squared_error\n",
    "\n",
    "trainPredict = regressor.predict(trainX)\n",
    "testPredict = regressor.predict(testX)\n",
    "# invert predictions\n",
    "trainPredict = Scaler.inverse_transform(trainPredict)\n",
    "trainY = Scaler.inverse_transform([trainY])\n",
    "testPredict = Scaler.inverse_transform(testPredict)\n",
    "testY = Scaler.inverse_transform([testY])\n",
    "# calculate root mean squared error\n",
    "trainScore = math.sqrt(mean_squared_error(trainY[0], trainPredict[:,0]))\n",
    "print('Train Score: %.2f RMSE' % (trainScore))\n",
    "testScore = math.sqrt(mean_squared_error(testY[0], testPredict[:,0]))\n",
    "print('Test Score: %.2f RMSE' % (testScore))"
   ]
  },
  {
   "cell_type": "code",
   "execution_count": 31,
   "metadata": {
    "_uuid": "c4f2442c0e97ee621c98b392aff2e23b02475c4f",
    "id": "YFFDPzzRnbIQ"
   },
   "outputs": [
    {
     "data": {
      "image/png": "[encoded data removed]",
      "text/plain": [
       "<Figure size 432x288 with 1 Axes>"
      ]
     },
     "metadata": {
      "needs_background": "light"
     },
     "output_type": "display_data"
    }
   ],
   "source": [
    "# plot trainPredict\n",
    "plt.plot(trainPredict)\n",
    "plt.grid()"
   ]
  },
  {
   "cell_type": "code",
   "execution_count": 32,
   "metadata": {
    "_uuid": "82199070b1ba0ff33e7cd261cd5222a4ecca94bf",
    "id": "czWDDQ19nbIY"
   },
   "outputs": [
    {
     "data": {
      "image/png": "[encoded data removed]",
      "text/plain": [
       "<Figure size 432x288 with 1 Axes>"
      ]
     },
     "metadata": {
      "needs_background": "light"
     },
     "output_type": "display_data"
    }
   ],
   "source": [
    "# plot testPredict\n",
    "plt.plot(testPredict)\n",
    "plt.grid()"
   ]
  },
  {
   "cell_type": "code",
   "execution_count": 35,
   "metadata": {
    "_uuid": "fb25d38a76f0dfacddc26928969d676b92fe6500",
    "id": "l_UKunDYnbIZ"
   },
   "outputs": [
    {
     "data": {
      "image/png": "[encoded data removed]",
      "text/plain": [
       "<Figure size 432x288 with 1 Axes>"
      ]
     },
     "metadata": {
      "needs_background": "light"
     },
     "output_type": "display_data"
    }
   ],
   "source": [
    "# shifting train\n",
    "trainPredictPlot = np.empty_like(datasets)\n",
    "trainPredictPlot[:, :] = np.nan\n",
    "trainPredictPlot[time_stemp:len(trainPredict)+time_stemp, :] = trainPredict\n",
    "# shifting test predictions for plotting\n",
    "testPredictPlot = np.empty_like(datasets)\n",
    "testPredictPlot[:, :] = np.nan\n",
    "testPredictPlot[len(trainPredict)+(time_stemp*2)+1:len(datasets)-1, :] = testPredict\n",
    "# plot baseline and predictions\n",
    "plt.plot(Scaler.inverse_transform(datasets_scaler), color='b')\n",
    "plt.plot(trainPredictPlot, color='r')\n",
    "plt.plot(testPredictPlot, color='g')\n",
    "plt.grid()\n",
    "plt.show()"
   ]
  },
  {
   "cell_type": "markdown",
   "metadata": {
    "_uuid": "1bf513565ed7a9933cfb5c81fba5d75846af19e4",
    "id": "J_sf-FI_nbIb"
   },
   "source": [
    "<a id=\"6\"></a>\n",
    "## Conclusion\n",
    "* Sequence Models\n",
    "* Recurrent Neural Network (RNN)\n",
    "Implementing Recurrent Neural Network with Keras\n",
    "    * Loading and Preprocessing Data\n",
    "    * Create RNN Model\n",
    "    * Predictions and Visualising RNN Model\n",
    "* Long Short Term Memory (LSTMs)\n",
    "* Implementing Long Short Term Memory with Keras\n",
    "    * Loading and Visualizing Data\n",
    "    * Preprocessing Data\n",
    "    * Create LSTM Model\n",
    "    * Predictions and Visualising RNN Model\n",
    "    * Implementing Long Short Term Memory"
   ]
  },
  {
   "cell_type": "markdown",
   "metadata": {
    "_uuid": "bbf58c9d3bcba1e411ef2204f36b3b27ef87949b",
    "id": "SJF_jRiqnbIc"
   },
   "source": [
    "REFERENCES\n",
    "* Tutor: Kaan Can udemy course (deep learning)"
   ]
  },
  {
   "cell_type": "code",
   "execution_count": null,
   "metadata": {
    "id": "MUKpTLwFnbId",
    "outputId": "ee93a7f2-f9eb-42a6-ae4d-f56239496ab0"
   },
   "outputs": [
    {
     "name": "stdout",
     "output_type": "stream",
     "text": [
      "The Zen of Python, by Tim Peters\n",
      "\n",
      "Beautiful is better than ugly.\n",
      "Explicit is better than implicit.\n",
      "Simple is better than complex.\n",
      "Complex is better than complicated.\n",
      "Flat is better than nested.\n",
      "Sparse is better than dense.\n",
      "Readability counts.\n",
      "Special cases aren't special enough to break the rules.\n",
      "Although practicality beats purity.\n",
      "Errors should never pass silently.\n",
      "Unless explicitly silenced.\n",
      "In the face of ambiguity, refuse the temptation to guess.\n",
      "There should be one-- and preferably only one --obvious way to do it.\n",
      "Although that way may not be obvious at first unless you're Dutch.\n",
      "Now is better than never.\n",
      "Although never is often better than *right* now.\n",
      "If the implementation is hard to explain, it's a bad idea.\n",
      "If the implementation is easy to explain, it may be a good idea.\n",
      "Namespaces are one honking great idea -- let's do more of those!\n"
     ]
    }
   ],
   "source": [
    "import this"
   ]
  },
  {
   "cell_type": "code",
   "execution_count": null,
   "metadata": {
    "id": "EdNLGHeknbIe"
   },
   "outputs": [],
   "source": []
  }
 ],
 "metadata": {
  "colab": {
   "name": "rnn-international-airline-passengers.ipynb",
   "provenance": []
  },
  "kernelspec": {
   "display_name": "Python 3",
   "language": "python",
   "name": "python3"
  },
  "language_info": {
   "codemirror_mode": {
    "name": "ipython",
    "version": 3
   },
   "file_extension": ".py",
   "mimetype": "text/x-python",
   "name": "python",
   "nbconvert_exporter": "python",
   "pygments_lexer": "ipython3",
   "version": "3.8.3"
  }
 },
 "nbformat": 4,
 "nbformat_minor": 1
}
